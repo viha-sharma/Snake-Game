{
 "cells": [
  {
   "cell_type": "markdown",
   "id": "8faae16b",
   "metadata": {},
   "source": [
    "---\n",
    "## <center><font color='maroon'>𓆙<font color='black'> THE SNAKE GAME <font color='maroon'>𓆙 </center>\n",
    "    \n",
    "---"
   ]
  },
  {
   "cell_type": "code",
   "execution_count": null,
   "id": "5db3c880",
   "metadata": {},
   "outputs": [],
   "source": [
    "#IMPORTING DEPENDENCIES"
   ]
  },
  {
   "cell_type": "code",
   "execution_count": null,
   "id": "2787431a",
   "metadata": {},
   "outputs": [],
   "source": [
    "import pygame, sys, random\n",
    "from pygame.math import Vector2\n",
    "from pygame import mixer"
   ]
  },
  {
   "cell_type": "code",
   "execution_count": null,
   "id": "358d4278",
   "metadata": {},
   "outputs": [],
   "source": [
    "pygame.mixer.init()\n",
    "mixer.music.load('/Users/vihasharma/Desktop/DS/python/retro-bg-music.wav')\n",
    "mixer.music.play(-1)"
   ]
  },
  {
   "cell_type": "code",
   "execution_count": null,
   "id": "89d62435",
   "metadata": {},
   "outputs": [],
   "source": [
    "# OBJECT CREATION"
   ]
  },
  {
   "cell_type": "code",
   "execution_count": null,
   "id": "41e7fa84",
   "metadata": {},
   "outputs": [],
   "source": [
    "class SNAKE:\n",
    "    def __init__(self):\n",
    "        self.body = [Vector2(5,10),Vector2(4,10),Vector2(3,10)]\n",
    "        self.direction = Vector2(0,0)\n",
    "        self.new_block = False \n",
    "        \n",
    "        self.head_up = pygame.image.load('/Users/vihasharma/Desktop/DS/python/graphics/head_up.png').convert_alpha()\n",
    "        self.head_down = pygame.image.load('/Users/vihasharma/Desktop/DS/python/graphics/head_down.png').convert_alpha()\n",
    "        self.head_left = pygame.image.load('/Users/vihasharma/Desktop/DS/python/graphics/head_left.png').convert_alpha()\n",
    "        self.head_right = pygame.image.load('/Users/vihasharma/Desktop/DS/python/graphics/head_right.png').convert_alpha()\n",
    "        \n",
    "        self.tail_up = pygame.image.load('/Users/vihasharma/Desktop/DS/python/graphics/tail_up.png').convert_alpha()\n",
    "        self.tail_down = pygame.image.load('/Users/vihasharma/Desktop/DS/python/graphics/tail_down.png').convert_alpha()\n",
    "        self.tail_left = pygame.image.load('/Users/vihasharma/Desktop/DS/python/graphics/tail_left.png').convert_alpha()\n",
    "        self.tail_right = pygame.image.load('/Users/vihasharma/Desktop/DS/python/graphics/tail_right.png').convert_alpha()\n",
    "\n",
    "        self.body_vertical = pygame.image.load('/Users/vihasharma/Desktop/DS/python/graphics/body_vertical.png').convert_alpha()\n",
    "        self.body_horizontal = pygame.image.load('/Users/vihasharma/Desktop/DS/python/graphics/body_horizontal.png').convert_alpha()\n",
    "        \n",
    "        self.body_tr = pygame.image.load('/Users/vihasharma/Desktop/DS/python/graphics/body_tr.png').convert_alpha()\n",
    "        self.body_tl = pygame.image.load('/Users/vihasharma/Desktop/DS/python/graphics/body_tl.png').convert_alpha()\n",
    "        self.body_br = pygame.image.load('/Users/vihasharma/Desktop/DS/python/graphics/body_br.png').convert_alpha()\n",
    "        self.body_bl = pygame.image.load('/Users/vihasharma/Desktop/DS/python/graphics/body_bl.png').convert_alpha()\n",
    "        \n",
    "        self.crunch_sound = pygame.mixer.Sound('/Users/vihasharma/Desktop/DS/python/Sound_crunch.wav')\n",
    "        self.game_over_sound = pygame.mixer.Sound('/Users/vihasharma/Desktop/DS/python/game_over.wav')\n",
    "        pygame.mixer.set_num_channels(1)\n",
    "        \n",
    "    def draw_snake(self):\n",
    "        self.update_head_graphics()\n",
    "        self.update_tail_graphics()\n",
    "        \n",
    "        for index,block in enumerate(self.body):\n",
    "            x_pos = int(block.x * cell_size)\n",
    "            y_pos = int(block.y * cell_size)\n",
    "            block_rect = pygame.Rect(x_pos,y_pos,cell_size,cell_size)    \n",
    "            \n",
    "            if index == 0:\n",
    "                screen.blit(self.head,block_rect)\n",
    "            elif index == len(self.body) -1:\n",
    "                screen.blit(self.tail, block_rect)\n",
    "            else: \n",
    "                previous_block = self.body[index + 1] - block\n",
    "                next_block = self.body[index - 1] - block\n",
    "                if previous_block.x == next_block.x:\n",
    "                    screen.blit(self.body_vertical, block_rect)\n",
    "                elif previous_block.y == next_block.y:\n",
    "                    screen.blit(self.body_horizontal, block_rect)\n",
    "                else:\n",
    "                    if previous_block.x == -1 and next_block.y == -1 or previous_block.y == -1 and next_block.x == -1:\n",
    "                        screen.blit(self.body_tl,block_rect)\n",
    "                    elif previous_block.x == -1 and next_block.y == 1 or previous_block.y == 1 and next_block.x == -1:\n",
    "                        screen.blit(self.body_bl,block_rect)\n",
    "                    elif previous_block.x == 1 and next_block.y == -1 or previous_block.y == -1 and next_block.x == 1:\n",
    "                        screen.blit(self.body_tr,block_rect)\n",
    "                    elif previous_block.x == 1 and next_block.y == 1 or previous_block.y == 1 and next_block.x == 1:\n",
    "                        screen.blit(self.body_br,block_rect)\n",
    "\n",
    "    def update_head_graphics(self):\n",
    "        head_relation = self.body[1] - self.body[0]\n",
    "        if head_relation == Vector2(1,0): self.head = self.head_left\n",
    "        elif head_relation == Vector2(-1,0): self.head = self.head_right\n",
    "        elif head_relation == Vector2(0,1): self.head = self.head_up\n",
    "        elif head_relation == Vector2(0,-1): self.head = self.head_down\n",
    "            \n",
    "    def update_tail_graphics(self):\n",
    "        tail_relation = self.body[-2] - self.body[-1]\n",
    "        if tail_relation == Vector2(1,0): self.tail = self.tail_left\n",
    "        elif tail_relation == Vector2(-1,0): self.tail = self.tail_right\n",
    "        elif tail_relation == Vector2(0,1): self.tail = self.tail_up\n",
    "        elif tail_relation == Vector2(0,-1): self.tail = self.tail_down\n",
    "            \n",
    "    def move_snake(self):\n",
    "        if self.new_block == True:\n",
    "            body_copy = self.body[:]\n",
    "            body_copy.insert(0,body_copy[0]+self.direction)\n",
    "            self.body = body_copy[:]\n",
    "            self.new_block = False\n",
    "        else:\n",
    "            body_copy = self.body[:-1]\n",
    "            body_copy.insert(0,body_copy[0]+self.direction)\n",
    "            self.body = body_copy[:]\n",
    "    \n",
    "    def add_block(self):\n",
    "        self.new_block = True\n",
    "        \n",
    "    def play_crunch_sound(self):\n",
    "        self.crunch_sound.play()\n",
    "    \n",
    "    def play_game_over_sound(self):\n",
    "        self.game_over_sound.play()\n",
    "    \n",
    "    def reset(self):\n",
    "        self.body = [Vector2(5,10),Vector2(4,10),Vector2(3,10)]\n",
    "        self.direction = Vector2(0,0)"
   ]
  },
  {
   "cell_type": "code",
   "execution_count": null,
   "id": "2d9c36f4",
   "metadata": {},
   "outputs": [],
   "source": [
    "class FRUIT:\n",
    "    def __init__(self):\n",
    "        self.randomize() \n",
    "        \n",
    "    def draw_fruit(self):\n",
    "        fruit_rect = pygame.Rect(int(self.pos.x*cell_size),int(self.pos.y*cell_size), cell_size,cell_size)\n",
    "        screen.blit(apple,fruit_rect)\n",
    "        #pygame.draw.rect(screen, (126,166,114),fruit_rect)\n",
    "        \n",
    "    def randomize(self):\n",
    "        self.x = random.randint(0,cell_number - 1)\n",
    "        self.y = random.randint(0,cell_number - 1)\n",
    "        self.pos = Vector2(self.x,self.y)"
   ]
  },
  {
   "cell_type": "code",
   "execution_count": null,
   "id": "ea6d694c",
   "metadata": {},
   "outputs": [],
   "source": [
    "class MAIN:\n",
    "    def __init__(self):\n",
    "        self.snake = SNAKE()\n",
    "        self.fruit = FRUIT()\n",
    "    \n",
    "    def update(self):\n",
    "        self.snake.move_snake()\n",
    "        self.check_collision()\n",
    "        self.check_fail()\n",
    "    \n",
    "    def draw_elements(self):\n",
    "        self.draw_grass()\n",
    "        self.fruit.draw_fruit()\n",
    "        self.snake.draw_snake()\n",
    "        self.draw_score()\n",
    "    \n",
    "    def check_collision(self):\n",
    "        if self.fruit.pos == self.snake.body[0]: #snake head and fruit is in same position\n",
    "            self.fruit.randomize()   #moves fruit\n",
    "            self.snake.add_block()   #add another block to the snake using add_block method\n",
    "            self.snake.play_crunch_sound()\n",
    "        for block in self.snake.body[1:]:\n",
    "            if block == self.fruit.pos:\n",
    "                self.fruit.randomize()\n",
    "            \n",
    "    def check_fail(self):\n",
    "        if not 0 <= self.snake.body[0].x < cell_number or not 0 <= self.snake.body[0].y < cell_number:\n",
    "           #self.snake.play_game_over_sound()\n",
    "            self.game_over()\n",
    "        \n",
    "        for block in self.snake.body[1:]:\n",
    "            if block == self.snake.body[0]:\n",
    "                #self.snake.play_game_over_sound()\n",
    "                self.game_over()\n",
    "    \n",
    "    def game_over(self):\n",
    "        self.snake.reset()\n",
    "    \n",
    "    def draw_grass(self):\n",
    "        grass_color = (167,209,61)\n",
    "        \n",
    "        for i in range(cell_number):\n",
    "            for j in range(cell_number):\n",
    "                if (i+j)%2==0:\n",
    "                    grass_rect = pygame.Rect(j*cell_size, i*cell_size, cell_size, cell_size)\n",
    "                    pygame.draw.rect(screen, grass_color, grass_rect)\n",
    "                    \n",
    "    def draw_score(self):\n",
    "        score_text = str(len(self.snake.body) - 3)\n",
    "        score_surface = game_font.render(score_text,True,(56,74,12))\n",
    "        score_x = int(cell_size * cell_number - 60)  #right end of screen\n",
    "        score_y = int(cell_size * cell_number - 40)\n",
    "        score_rect = score_surface.get_rect(center = (score_x,score_y))\n",
    "        apple_rect = apple.get_rect(midright = (score_rect.left, score_rect.centery))\n",
    "        bg_rect = pygame.Rect(apple_rect.left,apple_rect.top,apple_rect.width+score_rect.width +6 ,apple_rect.height)\n",
    "        \n",
    "        pygame.draw.rect(screen, (167,209,61), bg_rect)\n",
    "        screen.blit(score_surface,score_rect)\n",
    "        screen.blit(apple,apple_rect)\n",
    "        pygame.draw.rect(screen, (56,74,12), bg_rect,2)        "
   ]
  },
  {
   "cell_type": "code",
   "execution_count": null,
   "id": "15f1effa",
   "metadata": {},
   "outputs": [],
   "source": [
    "pygame.init()"
   ]
  },
  {
   "cell_type": "code",
   "execution_count": null,
   "id": "c68e9967",
   "metadata": {},
   "outputs": [],
   "source": []
  },
  {
   "cell_type": "code",
   "execution_count": null,
   "id": "01aad4eb",
   "metadata": {},
   "outputs": [],
   "source": [
    "cell_size = 20"
   ]
  },
  {
   "cell_type": "code",
   "execution_count": null,
   "id": "83074b19",
   "metadata": {},
   "outputs": [],
   "source": [
    "cell_number = 40"
   ]
  },
  {
   "cell_type": "code",
   "execution_count": null,
   "id": "d04c597c",
   "metadata": {},
   "outputs": [],
   "source": [
    "screen = pygame.display.set_mode((cell_size*cell_number,cell_size*cell_number))"
   ]
  },
  {
   "cell_type": "code",
   "execution_count": null,
   "id": "571766e9",
   "metadata": {},
   "outputs": [],
   "source": [
    "clock = pygame.time.Clock()"
   ]
  },
  {
   "cell_type": "code",
   "execution_count": null,
   "id": "e8423511",
   "metadata": {},
   "outputs": [],
   "source": [
    "apple = pygame.image.load('/Users/vihasharma/Desktop/DS/python/graphics/apple.png').convert_alpha()"
   ]
  },
  {
   "cell_type": "code",
   "execution_count": null,
   "id": "4c443623",
   "metadata": {},
   "outputs": [],
   "source": [
    "game_font = pygame.font.Font('/Users/vihasharma/Desktop/DS/python/fresh_fruit/Fresh-Fruit.ttf',25)"
   ]
  },
  {
   "cell_type": "code",
   "execution_count": null,
   "id": "37044523",
   "metadata": {},
   "outputs": [],
   "source": [
    "SCREEN_UPDATE = pygame.USEREVENT\n",
    "pygame.time.set_timer(SCREEN_UPDATE,150)"
   ]
  },
  {
   "cell_type": "code",
   "execution_count": null,
   "id": "1353281c",
   "metadata": {},
   "outputs": [],
   "source": [
    "main_game = MAIN()"
   ]
  },
  {
   "cell_type": "code",
   "execution_count": null,
   "id": "7d078cd9",
   "metadata": {},
   "outputs": [],
   "source": [
    "#RUNNING THE PROGRAM"
   ]
  },
  {
   "cell_type": "code",
   "execution_count": null,
   "id": "30df3608",
   "metadata": {},
   "outputs": [],
   "source": [
    "while True:\n",
    "    for event in pygame.event.get():\n",
    "        if event.type == pygame.QUIT:\n",
    "            pygame.quit()\n",
    "            sys.exit() #makes sure the game will close\n",
    "        if event.type == SCREEN_UPDATE:\n",
    "             main_game.update()\n",
    "        if event.type == pygame.KEYDOWN:\n",
    "            if event.key == pygame.K_UP:\n",
    "                if main_game.snake.direction.y != 1:\n",
    "                    main_game.snake.direction = Vector2(0,-1)\n",
    "            if event.key == pygame.K_DOWN:\n",
    "                if main_game.snake.direction.y != -1:\n",
    "                    main_game.snake.direction = Vector2(0,1)\n",
    "            if event.key == pygame.K_LEFT:\n",
    "                if main_game.snake.direction.x != 1:\n",
    "                    main_game.snake.direction = Vector2(-1,0)\n",
    "            if event.key == pygame.K_RIGHT:\n",
    "                if main_game.snake.direction.x != -1:\n",
    "                    main_game.snake.direction = Vector2(1,0)\n",
    "    screen.fill((175,215,70))\n",
    "    main_game.draw_elements()\n",
    "    pygame.display.update()\n",
    "    clock.tick(60)"
   ]
  },
  {
   "cell_type": "code",
   "execution_count": null,
   "id": "f25b29d9",
   "metadata": {},
   "outputs": [],
   "source": []
  }
 ],
 "metadata": {
  "kernelspec": {
   "display_name": "Python 3 (ipykernel)",
   "language": "python",
   "name": "python3"
  },
  "language_info": {
   "codemirror_mode": {
    "name": "ipython",
    "version": 3
   },
   "file_extension": ".py",
   "mimetype": "text/x-python",
   "name": "python",
   "nbconvert_exporter": "python",
   "pygments_lexer": "ipython3",
   "version": "3.9.7"
  }
 },
 "nbformat": 4,
 "nbformat_minor": 5
}
